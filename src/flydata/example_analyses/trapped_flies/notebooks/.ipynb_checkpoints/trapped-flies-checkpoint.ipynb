{
 "metadata": {
  "name": "",
  "signature": "sha256:1dcdb5fae6cde804d8178a132aefdf6f81d47035a9938de87725d30bd5f42908"
 },
 "nbformat": 3,
 "nbformat_minor": 0,
 "worksheets": [
  {
   "cells": [
    {
     "cell_type": "code",
     "collapsed": false,
     "input": [
      "import pandas as pd\n",
      "import os.path as op"
     ],
     "language": "python",
     "metadata": {},
     "outputs": [],
     "prompt_number": 1
    },
    {
     "cell_type": "code",
     "collapsed": false,
     "input": [
      "# Read in the data\n",
      "CACHE_DIR = op.join(op.expanduser('~'), 'data-analysis', 'strawlab', 'cylindrical-bermudas')\n",
      "df = pd.read_pickle(op.join(CACHE_DIR, 'trapped.pickle'))"
     ],
     "language": "python",
     "metadata": {},
     "outputs": [],
     "prompt_number": 2
    },
    {
     "cell_type": "code",
     "collapsed": false,
     "input": [
      "# We are interested on the maximum time spent inside the post in each trial...\n",
      "maxtrappedcol = \"out=maxlength#TrueIntervalsStats#column='InCircularRegion#center=(-0.1, -0.1)#radius=0.06'#dt=0.01#seconds=True\"\n",
      "df.groupby('condition')[maxtrappedcol].mean()"
     ],
     "language": "python",
     "metadata": {},
     "outputs": [
      {
       "metadata": {},
       "output_type": "pyout",
       "prompt_number": 3,
       "text": [
        "condition\n",
        "checkerboard16.png/infinity05.svg/+0.3/-5.0/0.1/0.20/multitone_rotation_rate|rudinshapiro|0.7|2|1|5||0.4|0.46|0.56|0.96|1.0|0.0|0.06    0.224377\n",
        "checkerboard16.png/infinity07.svg/+0.3/-10.0/0.1/0.20/justpost1.osg|-0.1|-0.1|0.0    0.615286\n",
        "checkerboard16.png/infinity07.svg/+0.3/-5.0/0.1/0.20/           0.217185\n",
        "gray.png/infinity07.svg/+0.3/-10.0/0.1/0.20/                    0.096373\n",
        "Name: out=maxlength#TrueIntervalsStats#column='InCircularRegion#center=(-0.1, -0.1)#radius=0.06'#dt=0.01#seconds=True, dtype: float64"
       ]
      }
     ],
     "prompt_number": 3
    },
    {
     "cell_type": "code",
     "collapsed": false,
     "input": [
      "# Add clickable urls (next step, display when rendering the notebook)\n",
      "from IPython.display import HTML\n",
      "import urllib\n",
      "link = HTML('<a href=\"http://www.google.com\" target=\"_blank\">link text</a>')\n",
      "def htmlize(url):    \n",
      "    return HTML('<a href=\"%s\" target=\"_blank\">link</a>' % url)\n",
      "df['urlw'] = df['url'].apply(htmlize)\n",
      "\n",
      "# Add a colum\n",
      "CONFLICT_CONDITION = 'checkerboard16.png/infinity07.svg/+0.3/-10.0/0.1/0.20/justpost1.osg|-0.1|-0.1|0.0'\n",
      "df['there_is_post'] = df['condition'] == CONFLICT_CONDITION"
     ],
     "language": "python",
     "metadata": {},
     "outputs": [],
     "prompt_number": 4
    },
    {
     "cell_type": "code",
     "collapsed": false,
     "input": [
      "# The 10 more \"trapped\" trajectories\n",
      "df.reset_index(None).sort(maxtrappedcol, ascending=False)[[maxtrappedcol, 'there_is_post']].head(10)"
     ],
     "language": "python",
     "metadata": {},
     "outputs": [
      {
       "html": [
        "<div style=\"max-height:1000px;max-width:1500px;overflow:auto;\">\n",
        "<table border=\"1\" class=\"dataframe\">\n",
        "  <thead>\n",
        "    <tr style=\"text-align: right;\">\n",
        "      <th></th>\n",
        "      <th>out=maxlength#TrueIntervalsStats#column='InCircularRegion#center=(-0.1, -0.1)#radius=0.06'#dt=0.01#seconds=True</th>\n",
        "      <th>there_is_post</th>\n",
        "    </tr>\n",
        "  </thead>\n",
        "  <tbody>\n",
        "    <tr>\n",
        "      <th>466</th>\n",
        "      <td> 2.90</td>\n",
        "      <td> True</td>\n",
        "    </tr>\n",
        "    <tr>\n",
        "      <th>319</th>\n",
        "      <td> 2.42</td>\n",
        "      <td> True</td>\n",
        "    </tr>\n",
        "    <tr>\n",
        "      <th>472</th>\n",
        "      <td> 2.40</td>\n",
        "      <td> True</td>\n",
        "    </tr>\n",
        "    <tr>\n",
        "      <th>503</th>\n",
        "      <td> 2.21</td>\n",
        "      <td> True</td>\n",
        "    </tr>\n",
        "    <tr>\n",
        "      <th>518</th>\n",
        "      <td> 2.19</td>\n",
        "      <td> True</td>\n",
        "    </tr>\n",
        "    <tr>\n",
        "      <th>455</th>\n",
        "      <td> 2.13</td>\n",
        "      <td> True</td>\n",
        "    </tr>\n",
        "    <tr>\n",
        "      <th>540</th>\n",
        "      <td> 2.12</td>\n",
        "      <td> True</td>\n",
        "    </tr>\n",
        "    <tr>\n",
        "      <th>392</th>\n",
        "      <td> 2.08</td>\n",
        "      <td> True</td>\n",
        "    </tr>\n",
        "    <tr>\n",
        "      <th>446</th>\n",
        "      <td> 2.07</td>\n",
        "      <td> True</td>\n",
        "    </tr>\n",
        "    <tr>\n",
        "      <th>320</th>\n",
        "      <td> 2.04</td>\n",
        "      <td> True</td>\n",
        "    </tr>\n",
        "  </tbody>\n",
        "</table>\n",
        "</div>"
       ],
       "metadata": {},
       "output_type": "pyout",
       "prompt_number": 5,
       "text": [
        "     out=maxlength#TrueIntervalsStats#column='InCircularRegion#center=(-0.1, -0.1)#radius=0.06'#dt=0.01#seconds=True  \\\n",
        "466                                               2.90                                                                 \n",
        "319                                               2.42                                                                 \n",
        "472                                               2.40                                                                 \n",
        "503                                               2.21                                                                 \n",
        "518                                               2.19                                                                 \n",
        "455                                               2.13                                                                 \n",
        "540                                               2.12                                                                 \n",
        "392                                               2.08                                                                 \n",
        "446                                               2.07                                                                 \n",
        "320                                               2.04                                                                 \n",
        "\n",
        "    there_is_post  \n",
        "466          True  \n",
        "319          True  \n",
        "472          True  \n",
        "503          True  \n",
        "518          True  \n",
        "455          True  \n",
        "540          True  \n",
        "392          True  \n",
        "446          True  \n",
        "320          True  "
       ]
      }
     ],
     "prompt_number": 5
    },
    {
     "cell_type": "code",
     "collapsed": false,
     "input": [
      "# Link to the nth more trapped trajectory in the results webserver\n",
      "df.sort(maxtrappedcol, ascending=False)['urlw'].iloc[4]"
     ],
     "language": "python",
     "metadata": {},
     "outputs": [
      {
       "html": [
        "<a href=\"http://strawcore:8080/trajectory/902931f8440111e48bdabcee7bdac44a/rotation-analysis-flycube.py/checkerboard16.png%2Finfinity07.svg%2F%2B0.3%2F-10.0%2F0.1%2F0.20%2Fjustpost1.osg|-0.1|-0.1|0.0?obj_id=11953\" target=\"_blank\">link</a>"
       ],
       "metadata": {},
       "output_type": "pyout",
       "prompt_number": 6,
       "text": [
        "<IPython.core.display.HTML at 0x7f1631056bd0>"
       ]
      }
     ],
     "prompt_number": 6
    },
    {
     "cell_type": "code",
     "collapsed": false,
     "input": [],
     "language": "python",
     "metadata": {},
     "outputs": []
    }
   ],
   "metadata": {}
  }
 ]
}